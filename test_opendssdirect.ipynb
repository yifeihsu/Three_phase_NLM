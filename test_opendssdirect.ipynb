{
 "cells": [
  {
   "cell_type": "code",
   "id": "initial_id",
   "metadata": {
    "collapsed": true,
    "ExecuteTime": {
     "end_time": "2025-02-10T02:04:51.860445Z",
     "start_time": "2025-02-10T02:04:51.853235Z"
    }
   },
   "source": [
    "from opendssdirect import dss\n",
    "dss('Redirect \"4Bus-YY-Bal.DSS\"')\n",
    "from scipy.sparse import csc_matrix\n",
    "\n",
    "dss.run_command(\"Solve\")\n",
    "dss.run_command(\"vsource.source.enabled=no\")\n",
    "\n",
    "systemY = csc_matrix(dss.YMatrix.getYsparse())\n",
    "print(systemY)"
   ],
   "outputs": [
    {
     "name": "stdout",
     "output_type": "stream",
     "text": [
      "  (0, 0)\t(4.942478942628483-15.717288167962273j)\n",
      "  (1, 0)\t(-0.08531480751782206+0.3380254115683565j)\n",
      "  (2, 0)\t(0.3134552298472527+0.017910889079245762j)\n",
      "  (3, 0)\t(-1.2844371248072728+2.6635563193504797j)\n",
      "  (4, 0)\t(0.6239454188915727-0.9141138573916585j)\n",
      "  (5, 0)\t(0.225175381526498-0.593999120041906j)\n",
      "  (0, 1)\t(-0.08531480751782206+0.3380254115683565j)\n",
      "  (1, 1)\t(5.094676259722679-15.813888000144328j)\n",
      "  (2, 1)\t(0.15628134837635083+0.14896485437054952j)\n",
      "  (3, 1)\t(0.6239454188915727-0.9141138573916585j)\n",
      "  (4, 1)\t(-1.4366344419014685+2.760156209216816j)\n",
      "  (5, 1)\t(0.38234926299739974-0.7250531737109641j)\n",
      "  (0, 2)\t(0.3134552298472527+0.017910889079245762j)\n",
      "  (1, 2)\t(0.15628134837635083+0.14896485437054952j)\n",
      "  (2, 2)\t(4.812260867763454-15.624627338530368j)\n",
      "  (3, 2)\t(0.225175381526498-0.593999120041906j)\n",
      "  (4, 2)\t(0.38234926299739974-0.7250531737109641j)\n",
      "  (5, 2)\t(-1.1542190499422436+2.5708954369615213j)\n",
      "  (0, 3)\t(-1.2844371248072728+2.6635563193504797j)\n",
      "  (1, 3)\t(0.6239454188915727-0.9141138573916585j)\n",
      "  (2, 3)\t(0.225175381526498-0.593999120041906j)\n",
      "  (3, 3)\t(1.3887208698930968-3.289257733341103j)\n",
      "  (4, 3)\t(-0.6239454188915727+0.9141135102071217j)\n",
      "  (5, 3)\t(-0.225175381526498+0.5939989877180109j)\n",
      "  (6, 3)\t(-0.31260055317793894+1.8756033190676333j)\n",
      "  :\t:\n",
      "  (5, 8)\t(-0.31260055317793894+1.8756033190676333j)\n",
      "  (6, 8)\t(-0.1801403052211985+0.475199130628656j)\n",
      "  (7, 8)\t(-0.3058794103979198+0.5800422630917095j)\n",
      "  (8, 8)\t(1.8604254558501647-7.6790165397270265j)\n",
      "  (9, 8)\t(0.1801403052211985-0.4751992960335249j)\n",
      "  (10, 8)\t(0.3058794103979198-0.5800425389687713j)\n",
      "  (11, 8)\t(-0.9233752399537949+2.0567163495692173j)\n",
      "  (6, 9)\t(-1.027549699845818+2.1308450554803833j)\n",
      "  (7, 9)\t(0.499156335113258-0.7312910859133266j)\n",
      "  (8, 9)\t(0.1801403052211985-0.4751992960335249j)\n",
      "  (9, 9)\t(1.027549699845818-2.1308437107093656j)\n",
      "  (10, 9)\t(-0.499156335113258+0.7312906519326555j)\n",
      "  (11, 9)\t(-0.1801403052211985+0.475199130628656j)\n",
      "  (6, 10)\t(0.499156335113258-0.7312910859133266j)\n",
      "  (7, 10)\t(-1.1493075535211748+2.208124967373453j)\n",
      "  (8, 10)\t(0.3058794103979198-0.5800425389687713j)\n",
      "  (9, 10)\t(-0.499156335113258+0.7312906519326555j)\n",
      "  (10, 10)\t(1.1493075535211748-2.2081235504970875j)\n",
      "  (11, 10)\t(-0.3058794103979198+0.5800422630917095j)\n",
      "  (6, 11)\t(0.1801403052211985-0.4751992960335249j)\n",
      "  (7, 11)\t(0.3058794103979198-0.5800425389687713j)\n",
      "  (8, 11)\t(-0.9233752399537949+2.0567163495692173j)\n",
      "  (9, 11)\t(-0.1801403052211985+0.475199130628656j)\n",
      "  (10, 11)\t(-0.3058794103979198+0.5800422630917095j)\n",
      "  (11, 11)\t(0.9233752399537949-2.056715070994519j)\n"
     ]
    }
   ],
   "execution_count": 11
  },
  {
   "metadata": {
    "ExecuteTime": {
     "end_time": "2025-02-09T21:06:44.250246Z",
     "start_time": "2025-02-09T21:06:44.247019Z"
    }
   },
   "cell_type": "code",
   "source": [
    "import numpy as np\n",
    "# Retrieve the bus voltages as a flat list of numbers.\n",
    "# The returned list is arranged as: [V1_re, V1_im, V2_re, V2_im, ...]\n",
    "voltages_flat = dss.Circuit.AllBusVolts()\n",
    "\n",
    "# Convert the flat list into a complex voltage array.\n",
    "# The real parts are every other value starting at index 0, and imaginary parts are at index 1, 3, 5, ...\n",
    "V_complex = np.array(voltages_flat[0::2]) + 1j * np.array(voltages_flat[1::2])\n",
    "\n",
    "# Now compute the magnitude and phase angle (in degrees)\n",
    "V_mag = np.abs(V_complex)\n",
    "# angle in degrees\n",
    "V_ang = np.angle(V_complex, deg=True)\n",
    "\n",
    "print(\"Bus Voltages (complex):\")\n",
    "print(V_complex)\n",
    "print(\"Voltage Magnitudes (V):\")\n",
    "print(V_mag)\n",
    "formatted_angles = [f\"{angle:0.2f}\" for angle in V_ang]\n",
    "print(\"Voltage Angles (deg):\", formatted_angles)"
   ],
   "id": "d9614bd5b70d15e9",
   "outputs": [
    {
     "name": "stdout",
     "output_type": "stream",
     "text": [
      "Bus Voltages (complex):\n",
      "[ 7199.42163607-1.18576646e-01j -3599.84017704-6.23474188e+03j\n",
      " -3599.44449758+6.23487911e+03j  7163.55684676-1.76100839e+01j\n",
      " -3575.13732468-6.14609683e+03j -3461.71297605+6.17803483e+03j\n",
      "  2303.64776187-9.08762924e+01j -1248.54050304-1.87730015e+03j\n",
      "  -923.4746068 +1.99981643e+03j  2169.25269868-1.56412722e+02j\n",
      " -1155.97056483-1.54514294e+03j  -407.39482976+1.78681130e+03j]\n",
      "Voltage Magnitudes (V):\n",
      "[7199.42163705 7199.36494248 7199.28595291 7163.57849205 7110.28220922\n",
      " 7081.77739608 2305.43954839 2254.57517624 2202.74172332 2174.88441313\n",
      " 1929.69806976 1832.66613499]\n",
      "Voltage Angles (deg): ['-0.00', '-120.00', '120.00', '-0.14', '-120.19', '119.26', '-2.26', '-123.63', '114.79', '-4.12', '-126.80', '102.84']\n"
     ]
    }
   ],
   "execution_count": 27
  },
  {
   "metadata": {
    "ExecuteTime": {
     "end_time": "2025-02-10T01:54:29.637322Z",
     "start_time": "2025-02-10T01:54:29.633896Z"
    }
   },
   "cell_type": "code",
   "source": [
    "print(systemY)\n",
    " # avoid, this is a dense matrix (memory intensive)\n",
    "systemYD = csc_matrix(dss.Circuit.SystemY())\n",
    "import numpy as np\n",
    "systemYD = np.array(systemY.todense())"
   ],
   "id": "898b1d1d246a428",
   "outputs": [
    {
     "name": "stdout",
     "output_type": "stream",
     "text": [
      "  (0, 0)\t(344.55286862859367-1240.4295968513904j)\n",
      "  (1, 0)\t(30.703365440148822+10.912554481334663j)\n",
      "  (2, 0)\t(31.102135477513894+10.592439958845551j)\n",
      "  (3, 0)\t(-1.2844371248072728+2.6635563193504797j)\n",
      "  (4, 0)\t(0.6239454188915727-0.9141138573916585j)\n",
      "  (5, 0)\t(0.225175381526498-0.593999120041906j)\n",
      "  (0, 1)\t(30.703365440148822+10.912554481334663j)\n",
      "  (1, 1)\t(344.70506594568786-1240.5261966835724j)\n",
      "  (2, 1)\t(30.94496159604299+10.723493924136855j)\n",
      "  (3, 1)\t(0.6239454188915727-0.9141138573916585j)\n",
      "  (4, 1)\t(-1.4366344419014685+2.760156209216816j)\n",
      "  (5, 1)\t(0.38234926299739974-0.7250531737109641j)\n",
      "  (0, 2)\t(31.102135477513894+10.592439958845551j)\n",
      "  (1, 2)\t(30.94496159604299+10.723493924136855j)\n",
      "  (2, 2)\t(344.42265055372866-1240.3369360219583j)\n",
      "  (3, 2)\t(0.225175381526498-0.593999120041906j)\n",
      "  (4, 2)\t(0.38234926299739974-0.7250531737109641j)\n",
      "  (5, 2)\t(-1.1542190499422436+2.5708954369615213j)\n",
      "  (0, 3)\t(-1.2844371248072728+2.6635563193504797j)\n",
      "  (1, 3)\t(0.6239454188915727-0.9141138573916585j)\n",
      "  (2, 3)\t(0.225175381526498-0.593999120041906j)\n",
      "  (3, 3)\t(1.3887208698930968-3.289257733341103j)\n",
      "  (4, 3)\t(-0.6239454188915727+0.9141135102071217j)\n",
      "  (5, 3)\t(-0.225175381526498+0.5939989877180109j)\n",
      "  (6, 3)\t(-0.31260055317793894+1.8756033190676333j)\n",
      "  :\t:\n",
      "  (5, 8)\t(-0.31260055317793894+1.8756033190676333j)\n",
      "  (6, 8)\t(-0.1801403052211985+0.475199130628656j)\n",
      "  (7, 8)\t(-0.3058794103979198+0.5800422630917095j)\n",
      "  (8, 8)\t(1.8604254558501647-7.6790165397270265j)\n",
      "  (9, 8)\t(0.1801403052211985-0.4751992960335249j)\n",
      "  (10, 8)\t(0.3058794103979198-0.5800425389687713j)\n",
      "  (11, 8)\t(-0.9233752399537949+2.0567163495692173j)\n",
      "  (6, 9)\t(-1.027549699845818+2.1308450554803833j)\n",
      "  (7, 9)\t(0.499156335113258-0.7312910859133266j)\n",
      "  (8, 9)\t(0.1801403052211985-0.4751992960335249j)\n",
      "  (9, 9)\t(1.027549699845818-2.1308437107093656j)\n",
      "  (10, 9)\t(-0.499156335113258+0.7312906519326555j)\n",
      "  (11, 9)\t(-0.1801403052211985+0.475199130628656j)\n",
      "  (6, 10)\t(0.499156335113258-0.7312910859133266j)\n",
      "  (7, 10)\t(-1.1493075535211748+2.208124967373453j)\n",
      "  (8, 10)\t(0.3058794103979198-0.5800425389687713j)\n",
      "  (9, 10)\t(-0.499156335113258+0.7312906519326555j)\n",
      "  (10, 10)\t(1.1493075535211748-2.2081235504970875j)\n",
      "  (11, 10)\t(-0.3058794103979198+0.5800422630917095j)\n",
      "  (6, 11)\t(0.1801403052211985-0.4751992960335249j)\n",
      "  (7, 11)\t(0.3058794103979198-0.5800425389687713j)\n",
      "  (8, 11)\t(-0.9233752399537949+2.0567163495692173j)\n",
      "  (9, 11)\t(-0.1801403052211985+0.475199130628656j)\n",
      "  (10, 11)\t(-0.3058794103979198+0.5800422630917095j)\n",
      "  (11, 11)\t(0.9233752399537949-2.056715070994519j)\n"
     ]
    }
   ],
   "execution_count": 3
  },
  {
   "metadata": {
    "ExecuteTime": {
     "end_time": "2025-02-08T06:46:38.466805Z",
     "start_time": "2025-02-08T06:46:38.245532Z"
    }
   },
   "cell_type": "code",
   "source": [
    "from matplotlib import pyplot as plt\n",
    "plt.spy(systemY)"
   ],
   "id": "b1b43c2066764efc",
   "outputs": [
    {
     "data": {
      "text/plain": [
       "<matplotlib.lines.Line2D at 0x12da2b5e0>"
      ]
     },
     "execution_count": 3,
     "metadata": {},
     "output_type": "execute_result"
    },
    {
     "data": {
      "text/plain": [
       "<Figure size 640x480 with 1 Axes>"
      ],
      "image/png": "[encoded data removed]"
     },
     "metadata": {},
     "output_type": "display_data"
    }
   ],
   "execution_count": 3
  },
  {
   "metadata": {
    "ExecuteTime": {
     "end_time": "2025-02-08T06:53:45.760546Z",
     "start_time": "2025-02-08T06:53:45.758329Z"
    }
   },
   "cell_type": "code",
   "source": [
    "all_nodes = dss.Circuit.AllNodeNames()\n",
    "\n",
    "# 4. Print all nodes.\n",
    "print(\"List of all nodes in the circuit:\")\n",
    "for node in all_nodes:\n",
    "    print(node)"
   ],
   "id": "c5884574b85f034e",
   "outputs": [
    {
     "name": "stdout",
     "output_type": "stream",
     "text": [
      "List of all nodes in the circuit:\n",
      "sourcebus.1\n",
      "sourcebus.2\n",
      "sourcebus.3\n",
      "n2.1\n",
      "n2.2\n",
      "n2.3\n",
      "n3.1\n",
      "n3.2\n",
      "n3.3\n",
      "n4.1\n",
      "n4.2\n",
      "n4.3\n"
     ]
    }
   ],
   "execution_count": 5
  },
  {
   "metadata": {
    "ExecuteTime": {
     "end_time": "2025-02-08T06:33:17.083199Z",
     "start_time": "2025-02-08T01:03:03.848554Z"
    }
   },
   "cell_type": "code",
   "source": [
    "# 4. Loop through all line elements and extract the Yprim matrix for each one.\n",
    "for line in dss.Lines.AllNames():\n",
    "    dss.Lines.Name(line)  # Make this line element active\n",
    "    # Retrieve the Yprim matrix as a flat list of complex numbers.\n",
    "    yprim_flat = dss.CktElement.YPrim()\n",
    "\n",
    "    # 5. Get the order (dimension) of the Yprim matrix\n",
    "    order = dss.CktElement.NodeOrder()\n",
    "    # 5. Convert the flat list into a list of complex numbers.\n",
    "    yprim_complex = []\n",
    "    # Step through the list two at a time.\n",
    "    for i in range(0, len(yprim_flat), 2):\n",
    "        yprim_complex.append(yprim_flat[i] + 1j * yprim_flat[i+1])\n",
    "    yprim_complex = np.array(yprim_complex)\n",
    "\n",
    "    # 6. Compute the matrix size.\n",
    "    # Total number of complex numbers:\n",
    "    total_complex = len(yprim_complex)\n",
    "    # Get the number of phases and terminals of the active element:\n",
    "    nphases = dss.CktElement.NumPhases()\n",
    "    nterminals = dss.CktElement.NumTerminals()\n",
    "    # The matrix dimension is given by:\n",
    "    mat_size = total_complex // (nphases * nterminals)\n",
    "\n",
    "    # 7. Reshape the vector into a square matrix.\n",
    "    yprim_matrix = yprim_complex.reshape(mat_size, mat_size)\n",
    "\n",
    "    y11 = yprim_matrix[0:3,0:3]\n",
    "    z11 = np.linalg.inv(y11)\n",
    "    z11_per_mile = z11 / (2500 / 5280)\n",
    "\n",
    "    # Print the resulting Yprim matrix.\n",
    "    print(yprim_matrix)"
   ],
   "id": "108cf8684adaedd7",
   "outputs": [
    {
     "ename": "KeyboardInterrupt",
     "evalue": "",
     "output_type": "error",
     "traceback": [
      "\u001B[0;31m---------------------------------------------------------------------------\u001B[0m",
      "\u001B[0;31mKeyboardInterrupt\u001B[0m                         Traceback (most recent call last)",
      "Cell \u001B[0;32mIn[19], line 30\u001B[0m\n\u001B[1;32m     28\u001B[0m y11 \u001B[38;5;241m=\u001B[39m yprim_matrix[\u001B[38;5;241m0\u001B[39m:\u001B[38;5;241m3\u001B[39m,\u001B[38;5;241m0\u001B[39m:\u001B[38;5;241m3\u001B[39m]\n\u001B[1;32m     29\u001B[0m z11 \u001B[38;5;241m=\u001B[39m np\u001B[38;5;241m.\u001B[39mlinalg\u001B[38;5;241m.\u001B[39minv(y11)\n\u001B[0;32m---> 30\u001B[0m z11_per_mile \u001B[38;5;241m=\u001B[39m \u001B[43mz11\u001B[49m \u001B[38;5;241m/\u001B[39m (\u001B[38;5;241m2500\u001B[39m \u001B[38;5;241m/\u001B[39m \u001B[38;5;241m5280\u001B[39m)\n\u001B[1;32m     32\u001B[0m \u001B[38;5;66;03m# Print the resulting Yprim matrix.\u001B[39;00m\n\u001B[1;32m     33\u001B[0m \u001B[38;5;28mprint\u001B[39m(yprim_matrix)\n",
      "Cell \u001B[0;32mIn[19], line 30\u001B[0m\n\u001B[1;32m     28\u001B[0m y11 \u001B[38;5;241m=\u001B[39m yprim_matrix[\u001B[38;5;241m0\u001B[39m:\u001B[38;5;241m3\u001B[39m,\u001B[38;5;241m0\u001B[39m:\u001B[38;5;241m3\u001B[39m]\n\u001B[1;32m     29\u001B[0m z11 \u001B[38;5;241m=\u001B[39m np\u001B[38;5;241m.\u001B[39mlinalg\u001B[38;5;241m.\u001B[39minv(y11)\n\u001B[0;32m---> 30\u001B[0m z11_per_mile \u001B[38;5;241m=\u001B[39m \u001B[43mz11\u001B[49m \u001B[38;5;241m/\u001B[39m (\u001B[38;5;241m2500\u001B[39m \u001B[38;5;241m/\u001B[39m \u001B[38;5;241m5280\u001B[39m)\n\u001B[1;32m     32\u001B[0m \u001B[38;5;66;03m# Print the resulting Yprim matrix.\u001B[39;00m\n\u001B[1;32m     33\u001B[0m \u001B[38;5;28mprint\u001B[39m(yprim_matrix)\n",
      "File \u001B[0;32m_pydevd_bundle/pydevd_cython_darwin_310_64.pyx:1187\u001B[0m, in \u001B[0;36m_pydevd_bundle.pydevd_cython_darwin_310_64.SafeCallWrapper.__call__\u001B[0;34m()\u001B[0m\n",
      "File \u001B[0;32m_pydevd_bundle/pydevd_cython_darwin_310_64.pyx:627\u001B[0m, in \u001B[0;36m_pydevd_bundle.pydevd_cython_darwin_310_64.PyDBFrame.trace_dispatch\u001B[0;34m()\u001B[0m\n",
      "File \u001B[0;32m_pydevd_bundle/pydevd_cython_darwin_310_64.pyx:937\u001B[0m, in \u001B[0;36m_pydevd_bundle.pydevd_cython_darwin_310_64.PyDBFrame.trace_dispatch\u001B[0;34m()\u001B[0m\n",
      "File \u001B[0;32m_pydevd_bundle/pydevd_cython_darwin_310_64.pyx:928\u001B[0m, in \u001B[0;36m_pydevd_bundle.pydevd_cython_darwin_310_64.PyDBFrame.trace_dispatch\u001B[0;34m()\u001B[0m\n",
      "File \u001B[0;32m_pydevd_bundle/pydevd_cython_darwin_310_64.pyx:585\u001B[0m, in \u001B[0;36m_pydevd_bundle.pydevd_cython_darwin_310_64.PyDBFrame.do_wait_suspend\u001B[0;34m()\u001B[0m\n",
      "File \u001B[0;32m/Applications/PyCharm.app/Contents/plugins/python-ce/helpers/pydev/pydevd.py:1220\u001B[0m, in \u001B[0;36mPyDB.do_wait_suspend\u001B[0;34m(self, thread, frame, event, arg, send_suspend_message, is_unhandled_exception)\u001B[0m\n\u001B[1;32m   1217\u001B[0m         from_this_thread\u001B[38;5;241m.\u001B[39mappend(frame_id)\n\u001B[1;32m   1219\u001B[0m \u001B[38;5;28;01mwith\u001B[39;00m \u001B[38;5;28mself\u001B[39m\u001B[38;5;241m.\u001B[39m_threads_suspended_single_notification\u001B[38;5;241m.\u001B[39mnotify_thread_suspended(thread_id, stop_reason):\n\u001B[0;32m-> 1220\u001B[0m     \u001B[38;5;28;43mself\u001B[39;49m\u001B[38;5;241;43m.\u001B[39;49m\u001B[43m_do_wait_suspend\u001B[49m\u001B[43m(\u001B[49m\u001B[43mthread\u001B[49m\u001B[43m,\u001B[49m\u001B[43m \u001B[49m\u001B[43mframe\u001B[49m\u001B[43m,\u001B[49m\u001B[43m \u001B[49m\u001B[43mevent\u001B[49m\u001B[43m,\u001B[49m\u001B[43m \u001B[49m\u001B[43marg\u001B[49m\u001B[43m,\u001B[49m\u001B[43m \u001B[49m\u001B[43msuspend_type\u001B[49m\u001B[43m,\u001B[49m\u001B[43m \u001B[49m\u001B[43mfrom_this_thread\u001B[49m\u001B[43m)\u001B[49m\n",
      "File \u001B[0;32m/Applications/PyCharm.app/Contents/plugins/python-ce/helpers/pydev/pydevd.py:1235\u001B[0m, in \u001B[0;36mPyDB._do_wait_suspend\u001B[0;34m(self, thread, frame, event, arg, suspend_type, from_this_thread)\u001B[0m\n\u001B[1;32m   1232\u001B[0m             \u001B[38;5;28mself\u001B[39m\u001B[38;5;241m.\u001B[39m_call_mpl_hook()\n\u001B[1;32m   1234\u001B[0m         \u001B[38;5;28mself\u001B[39m\u001B[38;5;241m.\u001B[39mprocess_internal_commands()\n\u001B[0;32m-> 1235\u001B[0m         \u001B[43mtime\u001B[49m\u001B[38;5;241;43m.\u001B[39;49m\u001B[43msleep\u001B[49m\u001B[43m(\u001B[49m\u001B[38;5;241;43m0.01\u001B[39;49m\u001B[43m)\u001B[49m\n\u001B[1;32m   1237\u001B[0m \u001B[38;5;28mself\u001B[39m\u001B[38;5;241m.\u001B[39mcancel_async_evaluation(get_current_thread_id(thread), \u001B[38;5;28mstr\u001B[39m(\u001B[38;5;28mid\u001B[39m(frame)))\n\u001B[1;32m   1239\u001B[0m \u001B[38;5;66;03m# process any stepping instructions\u001B[39;00m\n",
      "\u001B[0;31mKeyboardInterrupt\u001B[0m: "
     ]
    }
   ],
   "execution_count": 19
  },
  {
   "metadata": {
    "ExecuteTime": {
     "end_time": "2025-02-08T07:04:21.216782Z",
     "start_time": "2025-02-08T07:04:21.212463Z"
    }
   },
   "cell_type": "code",
   "source": [
    "for source in dss.Vsources.AllNames():\n",
    "    dss.Vsources.Name(source)\n",
    "    yprim_flat = dss.CktElement.YPrim()\n",
    "    order = dss.CktElement.NodeOrder()\n",
    "    yprim_complex = []\n",
    "    for i in range(0, len(yprim_flat), 2):\n",
    "        yprim_complex.append(yprim_flat[i] + 1j * yprim_flat[i+1])\n",
    "    yprim_complex = np.array(yprim_complex)\n",
    "    total_complex = len(yprim_complex)\n",
    "    nphases = dss.CktElement.NumPhases()\n",
    "    nterminals = dss.CktElement.NumTerminals()\n",
    "    mat_size = total_complex // (nphases * nterminals)\n",
    "    yprim_matrix = yprim_complex.reshape(mat_size, mat_size)\n",
    "    zprim_matrix = np.linalg.inv(yprim_matrix)\n",
    "    print(zprim_matrix)"
   ],
   "id": "4e93ad5da2ffaa75",
   "outputs": [
    {
     "name": "stdout",
     "output_type": "stream",
     "text": [
      "[[ 343.2684315 -1237.76604161j   31.32731086   +9.99844097j\n",
      "    31.32731086   +9.99844097j -343.2684315 +1237.76604161j\n",
      "   -31.32731086   -9.99844097j  -31.32731086   -9.99844097j]\n",
      " [  31.32731086   +9.99844097j  343.2684315 -1237.76604161j\n",
      "    31.32731086   +9.99844097j  -31.32731086   -9.99844097j\n",
      "  -343.2684315 +1237.76604161j  -31.32731086   -9.99844097j]\n",
      " [  31.32731086   +9.99844097j   31.32731086   +9.99844097j\n",
      "   343.2684315 -1237.76604161j  -31.32731086   -9.99844097j\n",
      "   -31.32731086   -9.99844097j -343.2684315 +1237.76604161j]\n",
      " [-343.2684315 +1237.76604161j  -31.32731086   -9.99844097j\n",
      "   -31.32731086   -9.99844097j  343.2684315 -1237.76604161j\n",
      "    31.32731086   +9.99844097j   31.32731086   +9.99844097j]\n",
      " [ -31.32731086   -9.99844097j -343.2684315 +1237.76604161j\n",
      "   -31.32731086   -9.99844097j   31.32731086   +9.99844097j\n",
      "   343.2684315 -1237.76604161j   31.32731086   +9.99844097j]\n",
      " [ -31.32731086   -9.99844097j  -31.32731086   -9.99844097j\n",
      "  -343.2684315 +1237.76604161j   31.32731086   +9.99844097j\n",
      "    31.32731086   +9.99844097j  343.2684315 -1237.76604161j]]\n"
     ]
    }
   ],
   "execution_count": 8
  },
  {
   "metadata": {
    "ExecuteTime": {
     "end_time": "2025-02-08T07:06:11.778964Z",
     "start_time": "2025-02-08T07:06:11.774807Z"
    }
   },
   "cell_type": "code",
   "source": [
    "for load in dss.Loads.AllNames():\n",
    "    dss.Loads.Name(load)\n",
    "    yprim_flat = dss.CktElement.YPrim()\n",
    "    order = dss.CktElement.NodeOrder()\n",
    "    yprim_complex = []\n",
    "    for i in range(0, len(yprim_flat), 2):\n",
    "        yprim_complex.append(yprim_flat[i] + 1j * yprim_flat[i+1])\n",
    "    yprim_complex = np.array(yprim_complex)\n",
    "    total_complex = len(yprim_complex)\n",
    "    nphases = dss.CktElement.NumPhases()\n",
    "    nterminals = dss.CktElement.NumTerminals()\n",
    "    mat_size = total_complex // (nphases * nterminals) - 1\n",
    "    yprim_matrix = yprim_complex.reshape(mat_size, mat_size)\n",
    "    zprim_matrix = np.linalg.inv(yprim_matrix)\n",
    "    print(yprim_matrix)"
   ],
   "id": "31577cdd1f0a11d7",
   "outputs": [
    {
     "name": "stdout",
     "output_type": "stream",
     "text": [
      "[[ 0.31203772-0.15112677j  0.        +0.j          0.        +0.j\n",
      "  -0.31203772+0.15112677j]\n",
      " [ 0.        +0.j          0.31203772-0.15112677j  0.        +0.j\n",
      "  -0.31203772+0.15112677j]\n",
      " [ 0.        +0.j          0.        +0.j          0.31203772-0.15112677j\n",
      "  -0.31203772+0.15112677j]\n",
      " [-0.31203772+0.15112677j -0.31203772+0.15112677j -0.31203772+0.15112677j\n",
      "   0.9361141 -0.45338075j]]\n"
     ]
    }
   ],
   "execution_count": 14
  },
  {
   "metadata": {
    "ExecuteTime": {
     "end_time": "2025-02-08T01:03:01.756074Z",
     "start_time": "2025-02-08T00:16:43.029673Z"
    }
   },
   "cell_type": "code",
   "source": [
    "for xfmr in dss.Transformers.AllNames():\n",
    "    dss.Transformers.Name(xfmr)\n",
    "    yprim_flat = dss.CktElement.YPrim()\n",
    "    order = dss.CktElement.NodeOrder()\n",
    "    yprim_complex = []\n",
    "    for i in range(0, len(yprim_flat), 2):\n",
    "        yprim_complex.append(yprim_flat[i] + 1j * yprim_flat[i+1])\n",
    "    yprim_complex = np.array(yprim_complex)\n",
    "    total_complex = len(yprim_complex)\n",
    "    nphases = dss.CktElement.NumPhases() + 1\n",
    "    nterminals = dss.CktElement.NumTerminals()\n",
    "    mat_size = total_complex // (nphases * nterminals)\n",
    "    yprim_matrix = yprim_complex.reshape(mat_size, mat_size)\n",
    "    y11 = yprim_matrix[0:3,0:3]\n",
    "    z11 = np.linalg.inv(y11)\n",
    "    z11_per_mile = z11 / (2500 / 5280)\n",
    "    print(yprim_matrix)"
   ],
   "id": "fd3021f220cc48c8",
   "outputs": [
    {
     "ename": "KeyboardInterrupt",
     "evalue": "",
     "output_type": "error",
     "traceback": [
      "\u001B[0;31m---------------------------------------------------------------------------\u001B[0m",
      "\u001B[0;31mKeyboardInterrupt\u001B[0m                         Traceback (most recent call last)",
      "Cell \u001B[0;32mIn[13], line 14\u001B[0m\n\u001B[1;32m     12\u001B[0m mat_size \u001B[38;5;241m=\u001B[39m total_complex \u001B[38;5;241m/\u001B[39m\u001B[38;5;241m/\u001B[39m (nphases \u001B[38;5;241m*\u001B[39m nterminals)\n\u001B[1;32m     13\u001B[0m yprim_matrix \u001B[38;5;241m=\u001B[39m yprim_complex\u001B[38;5;241m.\u001B[39mreshape(mat_size, mat_size)\n\u001B[0;32m---> 14\u001B[0m y11 \u001B[38;5;241m=\u001B[39m \u001B[43myprim_matrix\u001B[49m[\u001B[38;5;241m0\u001B[39m:\u001B[38;5;241m3\u001B[39m,\u001B[38;5;241m0\u001B[39m:\u001B[38;5;241m3\u001B[39m]\n\u001B[1;32m     15\u001B[0m z11 \u001B[38;5;241m=\u001B[39m np\u001B[38;5;241m.\u001B[39mlinalg\u001B[38;5;241m.\u001B[39minv(y11)\n\u001B[1;32m     16\u001B[0m z11_per_mile \u001B[38;5;241m=\u001B[39m z11 \u001B[38;5;241m/\u001B[39m (\u001B[38;5;241m2500\u001B[39m \u001B[38;5;241m/\u001B[39m \u001B[38;5;241m5280\u001B[39m)\n",
      "Cell \u001B[0;32mIn[13], line 14\u001B[0m\n\u001B[1;32m     12\u001B[0m mat_size \u001B[38;5;241m=\u001B[39m total_complex \u001B[38;5;241m/\u001B[39m\u001B[38;5;241m/\u001B[39m (nphases \u001B[38;5;241m*\u001B[39m nterminals)\n\u001B[1;32m     13\u001B[0m yprim_matrix \u001B[38;5;241m=\u001B[39m yprim_complex\u001B[38;5;241m.\u001B[39mreshape(mat_size, mat_size)\n\u001B[0;32m---> 14\u001B[0m y11 \u001B[38;5;241m=\u001B[39m \u001B[43myprim_matrix\u001B[49m[\u001B[38;5;241m0\u001B[39m:\u001B[38;5;241m3\u001B[39m,\u001B[38;5;241m0\u001B[39m:\u001B[38;5;241m3\u001B[39m]\n\u001B[1;32m     15\u001B[0m z11 \u001B[38;5;241m=\u001B[39m np\u001B[38;5;241m.\u001B[39mlinalg\u001B[38;5;241m.\u001B[39minv(y11)\n\u001B[1;32m     16\u001B[0m z11_per_mile \u001B[38;5;241m=\u001B[39m z11 \u001B[38;5;241m/\u001B[39m (\u001B[38;5;241m2500\u001B[39m \u001B[38;5;241m/\u001B[39m \u001B[38;5;241m5280\u001B[39m)\n",
      "File \u001B[0;32m_pydevd_bundle/pydevd_cython_darwin_310_64.pyx:1187\u001B[0m, in \u001B[0;36m_pydevd_bundle.pydevd_cython_darwin_310_64.SafeCallWrapper.__call__\u001B[0;34m()\u001B[0m\n",
      "File \u001B[0;32m_pydevd_bundle/pydevd_cython_darwin_310_64.pyx:627\u001B[0m, in \u001B[0;36m_pydevd_bundle.pydevd_cython_darwin_310_64.PyDBFrame.trace_dispatch\u001B[0;34m()\u001B[0m\n",
      "File \u001B[0;32m_pydevd_bundle/pydevd_cython_darwin_310_64.pyx:937\u001B[0m, in \u001B[0;36m_pydevd_bundle.pydevd_cython_darwin_310_64.PyDBFrame.trace_dispatch\u001B[0;34m()\u001B[0m\n",
      "File \u001B[0;32m_pydevd_bundle/pydevd_cython_darwin_310_64.pyx:928\u001B[0m, in \u001B[0;36m_pydevd_bundle.pydevd_cython_darwin_310_64.PyDBFrame.trace_dispatch\u001B[0;34m()\u001B[0m\n",
      "File \u001B[0;32m_pydevd_bundle/pydevd_cython_darwin_310_64.pyx:585\u001B[0m, in \u001B[0;36m_pydevd_bundle.pydevd_cython_darwin_310_64.PyDBFrame.do_wait_suspend\u001B[0;34m()\u001B[0m\n",
      "File \u001B[0;32m/Applications/PyCharm.app/Contents/plugins/python-ce/helpers/pydev/pydevd.py:1220\u001B[0m, in \u001B[0;36mPyDB.do_wait_suspend\u001B[0;34m(self, thread, frame, event, arg, send_suspend_message, is_unhandled_exception)\u001B[0m\n\u001B[1;32m   1217\u001B[0m         from_this_thread\u001B[38;5;241m.\u001B[39mappend(frame_id)\n\u001B[1;32m   1219\u001B[0m \u001B[38;5;28;01mwith\u001B[39;00m \u001B[38;5;28mself\u001B[39m\u001B[38;5;241m.\u001B[39m_threads_suspended_single_notification\u001B[38;5;241m.\u001B[39mnotify_thread_suspended(thread_id, stop_reason):\n\u001B[0;32m-> 1220\u001B[0m     \u001B[38;5;28;43mself\u001B[39;49m\u001B[38;5;241;43m.\u001B[39;49m\u001B[43m_do_wait_suspend\u001B[49m\u001B[43m(\u001B[49m\u001B[43mthread\u001B[49m\u001B[43m,\u001B[49m\u001B[43m \u001B[49m\u001B[43mframe\u001B[49m\u001B[43m,\u001B[49m\u001B[43m \u001B[49m\u001B[43mevent\u001B[49m\u001B[43m,\u001B[49m\u001B[43m \u001B[49m\u001B[43marg\u001B[49m\u001B[43m,\u001B[49m\u001B[43m \u001B[49m\u001B[43msuspend_type\u001B[49m\u001B[43m,\u001B[49m\u001B[43m \u001B[49m\u001B[43mfrom_this_thread\u001B[49m\u001B[43m)\u001B[49m\n",
      "File \u001B[0;32m/Applications/PyCharm.app/Contents/plugins/python-ce/helpers/pydev/pydevd.py:1235\u001B[0m, in \u001B[0;36mPyDB._do_wait_suspend\u001B[0;34m(self, thread, frame, event, arg, suspend_type, from_this_thread)\u001B[0m\n\u001B[1;32m   1232\u001B[0m             \u001B[38;5;28mself\u001B[39m\u001B[38;5;241m.\u001B[39m_call_mpl_hook()\n\u001B[1;32m   1234\u001B[0m         \u001B[38;5;28mself\u001B[39m\u001B[38;5;241m.\u001B[39mprocess_internal_commands()\n\u001B[0;32m-> 1235\u001B[0m         \u001B[43mtime\u001B[49m\u001B[38;5;241;43m.\u001B[39;49m\u001B[43msleep\u001B[49m\u001B[43m(\u001B[49m\u001B[38;5;241;43m0.01\u001B[39;49m\u001B[43m)\u001B[49m\n\u001B[1;32m   1237\u001B[0m \u001B[38;5;28mself\u001B[39m\u001B[38;5;241m.\u001B[39mcancel_async_evaluation(get_current_thread_id(thread), \u001B[38;5;28mstr\u001B[39m(\u001B[38;5;28mid\u001B[39m(frame)))\n\u001B[1;32m   1239\u001B[0m \u001B[38;5;66;03m# process any stepping instructions\u001B[39;00m\n",
      "\u001B[0;31mKeyboardInterrupt\u001B[0m: "
     ]
    }
   ],
   "execution_count": 18
  }
 ],
 "metadata": {
  "kernelspec": {
   "display_name": "Python 3",
   "language": "python",
   "name": "python3"
  },
  "language_info": {
   "codemirror_mode": {
    "name": "ipython",
    "version": 2
   },
   "file_extension": ".py",
   "mimetype": "text/x-python",
   "name": "python",
   "nbconvert_exporter": "python",
   "pygments_lexer": "ipython2",
   "version": "2.7.6"
  }
 },
 "nbformat": 4,
 "nbformat_minor": 5
}
